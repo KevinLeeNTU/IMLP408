{
 "cells": [
  {
   "cell_type": "markdown",
   "metadata": {},
   "source": [
    "# Linear Regression\n"
   ]
  },
  {
   "cell_type": "code",
   "execution_count": 1,
   "metadata": {},
   "outputs": [],
   "source": [
    "%matplotlib inline\n",
    "import numpy as np\n",
    "import matplotlib.pyplot as plt"
   ]
  },
  {
   "cell_type": "markdown",
   "metadata": {},
   "source": [
    "## 1. 線性迴歸基本概念"
   ]
  },
  {
   "cell_type": "markdown",
   "metadata": {},
   "source": [
    "#### 直線\n",
    "\n",
    "$$f(x) = 1.2x + 0.8$$\n",
    "\n"
   ]
  },
  {
   "cell_type": "code",
   "execution_count": 2,
   "metadata": {},
   "outputs": [
    {
     "name": "stdout",
     "output_type": "stream",
     "text": [
      "[0.         0.10204082 0.20408163 0.30612245 0.40816327 0.51020408\n",
      " 0.6122449  0.71428571 0.81632653 0.91836735 1.02040816 1.12244898\n",
      " 1.2244898  1.32653061 1.42857143 1.53061224 1.63265306 1.73469388\n",
      " 1.83673469 1.93877551 2.04081633 2.14285714 2.24489796 2.34693878\n",
      " 2.44897959 2.55102041 2.65306122 2.75510204 2.85714286 2.95918367\n",
      " 3.06122449 3.16326531 3.26530612 3.36734694 3.46938776 3.57142857\n",
      " 3.67346939 3.7755102  3.87755102 3.97959184 4.08163265 4.18367347\n",
      " 4.28571429 4.3877551  4.48979592 4.59183673 4.69387755 4.79591837\n",
      " 4.89795918 5.        ]\n"
     ]
    }
   ],
   "source": [
    "#準備 50 個點\n",
    "#5-0/50 = 0.1 +....\n",
    "# 0~5線性切割\n",
    "x = np.linspace(0, 5, 50)\n",
    "print(x)"
   ]
  },
  {
   "cell_type": "code",
   "execution_count": 3,
   "metadata": {},
   "outputs": [
    {
     "data": {
      "text/plain": [
       "array([0.8       , 0.92244898, 1.04489796, 1.16734694, 1.28979592,\n",
       "       1.4122449 , 1.53469388, 1.65714286, 1.77959184, 1.90204082,\n",
       "       2.0244898 , 2.14693878, 2.26938776, 2.39183673, 2.51428571,\n",
       "       2.63673469, 2.75918367, 2.88163265, 3.00408163, 3.12653061,\n",
       "       3.24897959, 3.37142857, 3.49387755, 3.61632653, 3.73877551,\n",
       "       3.86122449, 3.98367347, 4.10612245, 4.22857143, 4.35102041,\n",
       "       4.47346939, 4.59591837, 4.71836735, 4.84081633, 4.96326531,\n",
       "       5.08571429, 5.20816327, 5.33061224, 5.45306122, 5.5755102 ,\n",
       "       5.69795918, 5.82040816, 5.94285714, 6.06530612, 6.1877551 ,\n",
       "       6.31020408, 6.43265306, 6.55510204, 6.67755102, 6.8       ])"
      ]
     },
     "execution_count": 3,
     "metadata": {},
     "output_type": "execute_result"
    }
   ],
   "source": [
    "y = 1.2*x + 0.8\n",
    "y"
   ]
  },
  {
   "cell_type": "code",
   "execution_count": 4,
   "metadata": {},
   "outputs": [
    {
     "data": {
      "text/plain": [
       "[<matplotlib.lines.Line2D at 0xbd59c7aba8>]"
      ]
     },
     "execution_count": 4,
     "metadata": {},
     "output_type": "execute_result"
    },
    {
     "data": {
      "image/png": "[encoded data removed]",
      "text/plain": [
       "<Figure size 432x288 with 1 Axes>"
      ]
     },
     "metadata": {
      "needs_background": "light"
     },
     "output_type": "display_data"
    }
   ],
   "source": [
    "#畫圖\n",
    "plt.scatter(x,y)\n",
    "plt.plot(x, 1.2*x+0.8, 'r')"
   ]
  },
  {
   "cell_type": "markdown",
   "metadata": {},
   "source": [
    "#### add noise \n",
    "\n",
    "$$f(x) + \\varepsilon(x)$$\n"
   ]
  },
  {
   "cell_type": "code",
   "execution_count": 5,
   "metadata": {},
   "outputs": [
    {
     "name": "stdout",
     "output_type": "stream",
     "text": [
      "[ 0.25089926 -0.19710528  0.74018212  1.57469849  1.28305494  1.25752538\n",
      "  0.90297166  1.86282255  2.1838737   2.83581375  2.5048006   2.46850001\n",
      "  2.59007423  2.7264646   2.25210342  2.60071085  2.94308923  3.97897775\n",
      "  2.94317768  3.23060984  3.09967136  4.43331365  3.73492129  4.15352834\n",
      "  4.27181012  3.07421525  3.62315269  4.60213549  4.29970965  3.55401523\n",
      "  3.53769312  4.5388749   3.8035897   4.52109312  4.84816982  4.80026766\n",
      "  4.93040848  4.99646491  5.35734736  5.5621018   5.93842381  5.95003096\n",
      "  4.91476517  6.02028456  6.45053883  7.03893699  5.50610772  6.85008323\n",
      "  6.76521023  6.91642223]\n"
     ]
    }
   ],
   "source": [
    "y = 1.2*x + 0.8 + 0.6*np.random.randn(50)\n",
    "print(y)"
   ]
  },
  {
   "cell_type": "code",
   "execution_count": 6,
   "metadata": {},
   "outputs": [
    {
     "data": {
      "text/plain": [
       "[<matplotlib.lines.Line2D at 0xbd5bd5db00>]"
      ]
     },
     "execution_count": 6,
     "metadata": {},
     "output_type": "execute_result"
    },
    {
     "data": {
      "image/png": "[encoded data removed]",
      "text/plain": [
       "<Figure size 432x288 with 1 Axes>"
      ]
     },
     "metadata": {
      "needs_background": "light"
     },
     "output_type": "display_data"
    }
   ],
   "source": [
    "plt.scatter(x,y)\n",
    "plt.plot(x, 1.2*x + 0.8, 'r')"
   ]
  },
  {
   "cell_type": "code",
   "execution_count": 7,
   "metadata": {},
   "outputs": [],
   "source": [
    "from sklearn.linear_model import LinearRegression\n",
    "regr = LinearRegression()"
   ]
  },
  {
   "cell_type": "code",
   "execution_count": 8,
   "metadata": {},
   "outputs": [
    {
     "data": {
      "text/plain": [
       "LinearRegression(copy_X=True, fit_intercept=True, n_jobs=None, normalize=False)"
      ]
     },
     "execution_count": 8,
     "metadata": {},
     "output_type": "execute_result"
    }
   ],
   "source": [
    "regr"
   ]
  },
  {
   "cell_type": "markdown",
   "metadata": {},
   "source": [
    "要求資料轉換<br>\n",
    "\n",
    "$$[x_1, x_2, \\ldots, x_{50}]$$\n",
    "\n",
    "==> \n",
    "\n",
    "$$[[x_1], [x_2], \\ldots, [x_{50}]]$$\n",
    "\n",
    "\n",
    "矩陣的概念"
   ]
  },
  {
   "cell_type": "code",
   "execution_count": 9,
   "metadata": {},
   "outputs": [
    {
     "name": "stdout",
     "output_type": "stream",
     "text": [
      "(50,)\n"
     ]
    },
    {
     "data": {
      "text/plain": [
       "(50, 1)"
      ]
     },
     "execution_count": 9,
     "metadata": {},
     "output_type": "execute_result"
    }
   ],
   "source": [
    "print(x.shape)\n",
    "X = x.reshape(-1,1)\n",
    "X.shape"
   ]
  },
  {
   "cell_type": "code",
   "execution_count": 10,
   "metadata": {},
   "outputs": [
    {
     "data": {
      "text/plain": [
       "LinearRegression(copy_X=True, fit_intercept=True, n_jobs=None, normalize=False)"
      ]
     },
     "execution_count": 10,
     "metadata": {},
     "output_type": "execute_result"
    }
   ],
   "source": [
    "regr.fit(X,y)"
   ]
  },
  {
   "cell_type": "code",
   "execution_count": 11,
   "metadata": {},
   "outputs": [
    {
     "name": "stdout",
     "output_type": "stream",
     "text": [
      "[0.8632134  0.98228758 1.10136175 1.22043592 1.3395101  1.45858427\n",
      " 1.57765844 1.69673262 1.81580679 1.93488096 2.05395514 2.17302931\n",
      " 2.29210348 2.41117766 2.53025183 2.649326   2.76840018 2.88747435\n",
      " 3.00654852 3.1256227  3.24469687 3.36377104 3.48284522 3.60191939\n",
      " 3.72099356 3.84006774 3.95914191 4.07821608 4.19729026 4.31636443\n",
      " 4.4354386  4.55451278 4.67358695 4.79266112 4.9117353  5.03080947\n",
      " 5.14988364 5.26895782 5.38803199 5.50710616 5.62618034 5.74525451\n",
      " 5.86432868 5.98340286 6.10247703 6.2215512  6.34062538 6.45969955\n",
      " 6.57877372 6.6978479 ]\n"
     ]
    }
   ],
   "source": [
    "Y = regr.predict(X)\n",
    "print(Y)"
   ]
  },
  {
   "cell_type": "code",
   "execution_count": 12,
   "metadata": {},
   "outputs": [
    {
     "data": {
      "text/plain": [
       "{'copy_X': True, 'fit_intercept': True, 'n_jobs': None, 'normalize': False}"
      ]
     },
     "execution_count": 12,
     "metadata": {},
     "output_type": "execute_result"
    }
   ],
   "source": [
    "#了解你的訓練參數\n",
    "regr.get_params()"
   ]
  },
  {
   "cell_type": "code",
   "execution_count": 13,
   "metadata": {},
   "outputs": [
    {
     "name": "stdout",
     "output_type": "stream",
     "text": [
      "0.2655212016698412\n"
     ]
    },
    {
     "data": {
      "image/png": "[encoded data removed]",
      "text/plain": [
       "<Figure size 432x288 with 1 Axes>"
      ]
     },
     "metadata": {
      "needs_background": "light"
     },
     "output_type": "display_data"
    }
   ],
   "source": [
    "plt.scatter(x, y) #原本 \n",
    "plt.plot(x, Y, 'ro') #預測\n",
    "#calculate mse\n",
    "mse = np.sum((Y-y)**2) / len(y)\n",
    "print(mse)"
   ]
  },
  {
   "cell_type": "code",
   "execution_count": 14,
   "metadata": {},
   "outputs": [
    {
     "data": {
      "text/plain": [
       "array([1.1669269])"
      ]
     },
     "execution_count": 14,
     "metadata": {},
     "output_type": "execute_result"
    }
   ],
   "source": [
    "#Y=WX+b\n",
    "W=regr.coef_#斜率\n",
    "W\n",
    "\n"
   ]
  },
  {
   "cell_type": "code",
   "execution_count": 15,
   "metadata": {},
   "outputs": [
    {
     "data": {
      "text/plain": [
       "0.8632134031318706"
      ]
     },
     "execution_count": 15,
     "metadata": {},
     "output_type": "execute_result"
    }
   ],
   "source": [
    "b=regr.intercept_ #截距\n",
    "b"
   ]
  },
  {
   "cell_type": "code",
   "execution_count": 16,
   "metadata": {},
   "outputs": [
    {
     "data": {
      "text/plain": [
       "array([0.8632134 , 0.98228758, 1.10136175, 1.22043592, 1.3395101 ,\n",
       "       1.45858427, 1.57765844, 1.69673262, 1.81580679, 1.93488096,\n",
       "       2.05395514, 2.17302931, 2.29210348, 2.41117766, 2.53025183,\n",
       "       2.649326  , 2.76840018, 2.88747435, 3.00654852, 3.1256227 ,\n",
       "       3.24469687, 3.36377104, 3.48284522, 3.60191939, 3.72099356,\n",
       "       3.84006774, 3.95914191, 4.07821608, 4.19729026, 4.31636443,\n",
       "       4.4354386 , 4.55451278, 4.67358695, 4.79266112, 4.9117353 ,\n",
       "       5.03080947, 5.14988364, 5.26895782, 5.38803199, 5.50710616,\n",
       "       5.62618034, 5.74525451, 5.86432868, 5.98340286, 6.10247703,\n",
       "       6.2215512 , 6.34062538, 6.45969955, 6.57877372, 6.6978479 ])"
      ]
     },
     "execution_count": 16,
     "metadata": {},
     "output_type": "execute_result"
    }
   ],
   "source": [
    "Y"
   ]
  },
  {
   "cell_type": "code",
   "execution_count": 17,
   "metadata": {
    "scrolled": true
   },
   "outputs": [
    {
     "data": {
      "text/plain": [
       "array([4.3639941])"
      ]
     },
     "execution_count": 17,
     "metadata": {},
     "output_type": "execute_result"
    }
   ],
   "source": [
    "#可以將新的x資料帶入算出結果\n",
    "W*3+b"
   ]
  },
  {
   "cell_type": "code",
   "execution_count": 18,
   "metadata": {},
   "outputs": [
    {
     "data": {
      "text/plain": [
       "array([ 0.25089926, -0.19710528,  0.74018212,  1.57469849,  1.28305494,\n",
       "        1.25752538,  0.90297166,  1.86282255,  2.1838737 ,  2.83581375,\n",
       "        2.5048006 ,  2.46850001,  2.59007423,  2.7264646 ,  2.25210342,\n",
       "        2.60071085,  2.94308923,  3.97897775,  2.94317768,  3.23060984,\n",
       "        3.09967136,  4.43331365,  3.73492129,  4.15352834,  4.27181012,\n",
       "        3.07421525,  3.62315269,  4.60213549,  4.29970965,  3.55401523,\n",
       "        3.53769312,  4.5388749 ,  3.8035897 ,  4.52109312,  4.84816982,\n",
       "        4.80026766,  4.93040848,  4.99646491,  5.35734736,  5.5621018 ,\n",
       "        5.93842381,  5.95003096,  4.91476517,  6.02028456,  6.45053883,\n",
       "        7.03893699,  5.50610772,  6.85008323,  6.76521023,  6.91642223])"
      ]
     },
     "execution_count": 18,
     "metadata": {},
     "output_type": "execute_result"
    }
   ],
   "source": [
    "y"
   ]
  },
  {
   "cell_type": "code",
   "execution_count": null,
   "metadata": {},
   "outputs": [],
   "source": []
  },
  {
   "cell_type": "code",
   "execution_count": null,
   "metadata": {},
   "outputs": [],
   "source": []
  }
 ],
 "metadata": {
  "anaconda-cloud": {},
  "kernelspec": {
   "display_name": "Python 3",
   "language": "python",
   "name": "python3"
  },
  "language_info": {
   "codemirror_mode": {
    "name": "ipython",
    "version": 3
   },
   "file_extension": ".py",
   "mimetype": "text/x-python",
   "name": "python",
   "nbconvert_exporter": "python",
   "pygments_lexer": "ipython3",
   "version": "3.7.3"
  }
 },
 "nbformat": 4,
 "nbformat_minor": 1
}
